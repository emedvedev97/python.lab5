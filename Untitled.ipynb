{
 "cells": [
  {
   "cell_type": "code",
   "execution_count": 1,
   "metadata": {},
   "outputs": [],
   "source": [
    "import pandas as pd\n",
    "from sklearn.model_selection import GridSearchCV\n",
    "import matplotlib.pyplot as plt\n",
    "import numpy as np\n",
    "from sklearn.ensemble import RandomForestClassifier\n",
    "#from sklearn.ensemble import RandomForestRegressor"
   ]
  },
  {
   "cell_type": "code",
   "execution_count": 2,
   "metadata": {},
   "outputs": [],
   "source": [
    "x_train = pd.read_csv(\"/home/emedvedev/pythonLab/lab4/train.csv\")\n",
    "x_train , x_test = x_train[0:445].reset_index(drop=True) , x_train[445:891].reset_index(drop=True)"
   ]
  },
  {
   "cell_type": "code",
   "execution_count": 3,
   "metadata": {},
   "outputs": [],
   "source": [
    "y_test = x_test['Survived']\n",
    "y_train = x_train['Survived']"
   ]
  },
  {
   "cell_type": "code",
   "execution_count": 4,
   "metadata": {},
   "outputs": [],
   "source": [
    "def masFilter(mas):\n",
    "    mas = mas[[\"PassengerId\",\"Sex\",\"Age\"]].copy()\n",
    "    mas['Age'].fillna(mas['Age'].median(), inplace=True)\n",
    "    mas['Sex'] = pd.factorize(mas['Sex'])[0]\n",
    "    \n",
    "\n",
    "    return mas"
   ]
  },
  {
   "cell_type": "code",
   "execution_count": 5,
   "metadata": {},
   "outputs": [],
   "source": [
    "x_tr = masFilter(x_train)\n",
    "x_te = masFilter(x_test)\n",
    "x_train = x_tr[[\"Sex\",\"Age\"]].copy()\n",
    "x_test = x_te[[\"Sex\",\"Age\"]].copy()"
   ]
  },
  {
   "cell_type": "code",
   "execution_count": 6,
   "metadata": {},
   "outputs": [],
   "source": [
    "paramsRFC = {\"max_depth\": [3, 10, 20, 50 , 100, None],\n",
    "              \"max_features\": [\"sqrt\", \"log2\"],\n",
    "              \"min_samples_split\": [0.1, 0.2, 0.3, 0.4, 0.5, 0.6, 0.7, 0.8, 0.9, 1.0],\n",
    "              \"min_samples_leaf\": [1,2, 3,4,5,6,7,8,9, 10],\n",
    "              # \"bootstrap\": [True, False],\n",
    "              \"criterion\": [\"gini\", \"entropy\"]}"
   ]
  },
  {
   "cell_type": "raw",
   "metadata": {},
   "source": [
    "paramsRFR = {\"max_depth\": [3, 10, None],\n",
    "              \"max_features\": [\"sqrt\", \"log2\"],\n",
    "              \"min_samples_split\": [0.1, 0.3, 1.0],\n",
    "              \"min_samples_leaf\": [1, 3, 10] }\n",
    "              # \"bootstrap\": [True, False],}"
   ]
  },
  {
   "cell_type": "code",
   "execution_count": 7,
   "metadata": {},
   "outputs": [],
   "source": [
    "import multiprocessing\n",
    "cores=multiprocessing.cpu_count()-2"
   ]
  },
  {
   "cell_type": "code",
   "execution_count": 8,
   "metadata": {},
   "outputs": [
    {
     "name": "stdout",
     "output_type": "stream",
     "text": [
      "Fitting 5 folds for each of 2400 candidates, totalling 12000 fits\n"
     ]
    },
    {
     "name": "stderr",
     "output_type": "stream",
     "text": [
      "[Parallel(n_jobs=6)]: Using backend LokyBackend with 6 concurrent workers.\n",
      "[Parallel(n_jobs=6)]: Done  30 tasks      | elapsed:    1.4s\n",
      "[Parallel(n_jobs=6)]: Done 1151 tasks      | elapsed:    8.5s\n",
      "[Parallel(n_jobs=6)]: Done 3181 tasks      | elapsed:   17.3s\n",
      "[Parallel(n_jobs=6)]: Done 6011 tasks      | elapsed:   30.0s\n",
      "[Parallel(n_jobs=6)]: Done 9661 tasks      | elapsed:   46.8s\n",
      "[Parallel(n_jobs=6)]: Done 12000 out of 12000 | elapsed:   57.4s finished\n",
      "/home/emedvedev/.local/lib/python3.6/site-packages/sklearn/model_selection/_search.py:814: DeprecationWarning: The default of the `iid` parameter will change from True to False in version 0.22 and will be removed in 0.24. This will change numeric results when test-set sizes are unequal.\n",
      "  DeprecationWarning)\n",
      "/home/emedvedev/.local/lib/python3.6/site-packages/sklearn/ensemble/forest.py:245: FutureWarning: The default value of n_estimators will change from 10 in version 0.20 to 100 in 0.22.\n",
      "  \"10 in version 0.20 to 100 in 0.22.\", FutureWarning)\n"
     ]
    },
    {
     "data": {
      "text/plain": [
       "GridSearchCV(cv=5, error_score='raise-deprecating',\n",
       "             estimator=RandomForestClassifier(bootstrap=True, class_weight=None,\n",
       "                                              criterion='gini', max_depth=None,\n",
       "                                              max_features='auto',\n",
       "                                              max_leaf_nodes=None,\n",
       "                                              min_impurity_decrease=0.0,\n",
       "                                              min_impurity_split=None,\n",
       "                                              min_samples_leaf=1,\n",
       "                                              min_samples_split=2,\n",
       "                                              min_weight_fraction_leaf=0.0,\n",
       "                                              n_estimators='warn', n_jobs=None,\n",
       "                                              oob_score=Fa...\n",
       "                                              random_state=None, verbose=0,\n",
       "                                              warm_start=False),\n",
       "             iid='warn', n_jobs=6,\n",
       "             param_grid={'criterion': ['gini', 'entropy'],\n",
       "                         'max_depth': [3, 10, 20, 50, 100, None],\n",
       "                         'max_features': ['sqrt', 'log2'],\n",
       "                         'min_samples_leaf': [1, 2, 3, 4, 5, 6, 7, 8, 9, 10],\n",
       "                         'min_samples_split': [0.1, 0.2, 0.3, 0.4, 0.5, 0.6,\n",
       "                                               0.7, 0.8, 0.9, 1.0]},\n",
       "             pre_dispatch='2*n_jobs', refit=True, return_train_score=False,\n",
       "             scoring=None, verbose=2)"
      ]
     },
     "execution_count": 8,
     "metadata": {},
     "output_type": "execute_result"
    }
   ],
   "source": [
    "grid1 = GridSearchCV(RandomForestClassifier(),paramsRFC,refit = True, verbose=2, cv=5, n_jobs = cores)\n",
    "grid1.fit(x_train, y_train)"
   ]
  },
  {
   "cell_type": "raw",
   "metadata": {
    "scrolled": false
   },
   "source": [
    "grid2 = GridSearchCV(RandomForestRegressor(),paramsRFR,refit = True, verbose=2, cv=5, n_jobs = cores)\n",
    "grid2.fit(x_train, y_train)"
   ]
  },
  {
   "cell_type": "code",
   "execution_count": 9,
   "metadata": {
    "scrolled": true
   },
   "outputs": [
    {
     "name": "stdout",
     "output_type": "stream",
     "text": [
      "Наилучшие значения параметров: {'criterion': 'gini', 'max_depth': 3, 'max_features': 'log2', 'min_samples_leaf': 3, 'min_samples_split': 0.2}\n",
      "Наилучшее значение кросс-валидац. правильности:0.81\n",
      "Правильность на тестовом наборе: 0.75\n"
     ]
    }
   ],
   "source": [
    "print(\"Наилучшие значения параметров: {}\".format(grid1.best_params_))\n",
    "print(\"Наилучшее значение кросс-валидац. правильности:{:.2f}\".format(grid1.best_score_))\n",
    "print(\"Правильность на тестовом наборе: {:.2f}\".format(grid1.score(x_test, y_test)))"
   ]
  },
  {
   "cell_type": "raw",
   "metadata": {},
   "source": [
    "print(\"Наилучшие значения параметров: {}\".format(grid2.best_params_))\n",
    "print(\"Наилучшее значение кросс-валидац. правильности:{:.2f}\".format(grid2.best_score_))\n",
    "print(\"Правильность на тестовом наборе: {:.2f}\".format(grid2.score(x_test, y_test)))"
   ]
  },
  {
   "cell_type": "code",
   "execution_count": 10,
   "metadata": {},
   "outputs": [],
   "source": [
    "predicted1 = pd.DataFrame({'Surv1' : grid1.best_estimator_.predict(x_test)})"
   ]
  },
  {
   "cell_type": "raw",
   "metadata": {},
   "source": [
    "grid1.best_estimator_.predict(x_test)"
   ]
  },
  {
   "cell_type": "raw",
   "metadata": {},
   "source": [
    "predicted2 = pd.DataFrame({'Surv2' : grid2.best_estimator_.predict(x_test)})"
   ]
  },
  {
   "cell_type": "raw",
   "metadata": {},
   "source": [
    "grid2.best_estimator_.predict(x_test)"
   ]
  },
  {
   "cell_type": "code",
   "execution_count": 11,
   "metadata": {},
   "outputs": [],
   "source": [
    "result1 = pd.concat([x_te,  predicted1],  axis=1)\n",
    "#result2 = pd.concat([x_te,  predicted2],  axis=1)\n",
    "tests = pd.concat([x_te,  y_test],  axis=1)"
   ]
  },
  {
   "cell_type": "code",
   "execution_count": 12,
   "metadata": {},
   "outputs": [],
   "source": [
    "def rule(x):\n",
    "    return (x // 10) \n",
    "\n",
    "result1['Group'] = result1.apply(lambda x: rule(x['Age']), axis =  1)\n",
    "#result2['Group'] = result2.apply(lambda x: rule(x['Age']), axis =  1)\n",
    "tests['Group'] = tests.apply(lambda x: rule(x['Age']), axis =  1)"
   ]
  },
  {
   "cell_type": "code",
   "execution_count": 13,
   "metadata": {},
   "outputs": [],
   "source": [
    "pvt1 = result1.pivot_table(index=['Group'], columns=['Surv1', 'Sex'], values='PassengerId', aggfunc='count')\n",
    "#pvt2 = result2.pivot_table(index=['Group'], columns=['Surv2', 'Sex'], values='PassengerId', aggfunc='count')\n",
    "pvt3 = tests.pivot_table(index=['Group'], columns=['Survived', 'Sex'], values='PassengerId', aggfunc='count')"
   ]
  },
  {
   "cell_type": "code",
   "execution_count": 16,
   "metadata": {
    "scrolled": false
   },
   "outputs": [
    {
     "data": {
      "image/png": "[encoded data removed]",
      "text/plain": [
       "<Figure size 1800x1080 with 1 Axes>"
      ]
     },
     "metadata": {
      "needs_background": "light"
     },
     "output_type": "display_data"
    },
    {
     "data": {
      "image/png": "[encoded data removed]",
      "text/plain": [
       "<Figure size 1800x1080 with 1 Axes>"
      ]
     },
     "metadata": {
      "needs_background": "light"
     },
     "output_type": "display_data"
    }
   ],
   "source": [
    "pvt1.plot(kind='barh', title =\"predict1\", figsize=(25, 15), legend=True, fontsize=14, stacked=True)\n",
    "#pvt2.plot(kind='bar', title =\"predict2\", figsize=(15, 10), legend=True, fontsize=12 , stacked=True)\n",
    "pvt3.plot(kind='barh', title =\"real\", figsize=(25, 15), legend=True, fontsize=14, stacked=True)\n",
    "plt.show()"
   ]
  },
  {
   "cell_type": "code",
   "execution_count": null,
   "metadata": {},
   "outputs": [],
   "source": []
  }
 ],
 "metadata": {
  "kernelspec": {
   "display_name": "Python 3",
   "language": "python",
   "name": "python3"
  },
  "language_info": {
   "codemirror_mode": {
    "name": "ipython",
    "version": 3
   },
   "file_extension": ".py",
   "mimetype": "text/x-python",
   "name": "python",
   "nbconvert_exporter": "python",
   "pygments_lexer": "ipython3",
   "version": "3.6.8"
  }
 },
 "nbformat": 4,
 "nbformat_minor": 2
}
