{
 "cells": [
  {
   "cell_type": "code",
   "execution_count": 1,
   "metadata": {},
   "outputs": [],
   "source": [
    "import pandas as pd\n",
    "from sklearn.model_selection import GridSearchCV\n",
    "import matplotlib.pyplot as plt\n",
    "import numpy as np\n",
    "from sklearn.ensemble import RandomForestClassifier\n",
    "#from sklearn.ensemble import RandomForestRegressor"
   ]
  },
  {
   "cell_type": "code",
   "execution_count": 2,
   "metadata": {},
   "outputs": [],
   "source": [
    "x_train = pd.read_csv(\"train.csv\")\n",
    "length = len(x_train.index)"
   ]
  },
  {
   "cell_type": "code",
   "execution_count": 3,
   "metadata": {},
   "outputs": [],
   "source": [
    "hi = int(length * 0.7)\n",
    "low = length - hi"
   ]
  },
  {
   "cell_type": "code",
   "execution_count": 4,
   "metadata": {},
   "outputs": [],
   "source": [
    "x_train , x_test = x_train[0:623].reset_index(drop=True) , x_train[624:891].reset_index(drop=True)"
   ]
  },
  {
   "cell_type": "code",
   "execution_count": 5,
   "metadata": {},
   "outputs": [],
   "source": [
    "y_test = x_test['Survived']\n",
    "y_train = x_train['Survived']"
   ]
  },
  {
   "cell_type": "code",
   "execution_count": 6,
   "metadata": {},
   "outputs": [],
   "source": [
    "def masFilter(mas):\n",
    "    mas = mas[[\"PassengerId\",\"Sex\",\"Age\",\"Pclass\"]].copy()\n",
    "    mas['Age'].fillna(mas['Age'].median(), inplace=True)\n",
    "    mas['Sex'] = pd.factorize(mas['Sex'])[0]\n",
    "    \n",
    "\n",
    "    return mas"
   ]
  },
  {
   "cell_type": "code",
   "execution_count": 7,
   "metadata": {},
   "outputs": [],
   "source": [
    "x_tr = masFilter(x_train)\n",
    "x_te = masFilter(x_test)\n",
    "x_train = x_tr[[\"Sex\",\"Age\",\"Pclass\"]].copy()\n",
    "x_test = x_te[[\"Sex\",\"Age\",\"Pclass\"]].copy()"
   ]
  },
  {
   "cell_type": "code",
   "execution_count": 8,
   "metadata": {},
   "outputs": [],
   "source": [
    "import multiprocessing\n",
    "cores=multiprocessing.cpu_count()-2"
   ]
  },
  {
   "cell_type": "code",
   "execution_count": 9,
   "metadata": {},
   "outputs": [],
   "source": [
    "import xgboost as xgb\n",
    "model = xgb.XGBClassifier()"
   ]
  },
  {
   "cell_type": "code",
   "execution_count": 10,
   "metadata": {},
   "outputs": [],
   "source": [
    "param_dist = {\"max_depth\": [5],\n",
    "              \"min_child_weight\" : [1],\n",
    "              \"n_estimators\": [90],\n",
    "              \"learning_rate\": [0.001]}"
   ]
  },
  {
   "cell_type": "code",
   "execution_count": 11,
   "metadata": {},
   "outputs": [],
   "source": [
    "xgb_model = GridSearchCV(model, param_grid=param_dist, cv = 10, verbose=10, n_jobs=cores)"
   ]
  },
  {
   "cell_type": "code",
   "execution_count": 12,
   "metadata": {
    "scrolled": true
   },
   "outputs": [
    {
     "name": "stdout",
     "output_type": "stream",
     "text": [
      "Fitting 10 folds for each of 1 candidates, totalling 10 fits\n"
     ]
    },
    {
     "name": "stderr",
     "output_type": "stream",
     "text": [
      "[Parallel(n_jobs=14)]: Using backend LokyBackend with 14 concurrent workers.\n",
      "[Parallel(n_jobs=14)]: Done   3 out of  10 | elapsed:    2.6s remaining:    6.3s\n",
      "[Parallel(n_jobs=14)]: Done   5 out of  10 | elapsed:    2.7s remaining:    2.7s\n",
      "[Parallel(n_jobs=14)]: Done   7 out of  10 | elapsed:    2.7s remaining:    1.1s\n",
      "[Parallel(n_jobs=14)]: Done  10 out of  10 | elapsed:    2.7s finished\n"
     ]
    },
    {
     "data": {
      "text/plain": [
       "GridSearchCV(cv=10, error_score='raise-deprecating',\n",
       "             estimator=XGBClassifier(base_score=0.5, booster='gbtree',\n",
       "                                     colsample_bylevel=1, colsample_bynode=1,\n",
       "                                     colsample_bytree=1, gamma=0,\n",
       "                                     learning_rate=0.1, max_delta_step=0,\n",
       "                                     max_depth=3, min_child_weight=1,\n",
       "                                     missing=None, n_estimators=100, n_jobs=1,\n",
       "                                     nthread=None, objective='binary:logistic',\n",
       "                                     random_state=0, reg_alpha=0, reg_lambda=1,\n",
       "                                     scale_pos_weight=1, seed=None, silent=None,\n",
       "                                     subsample=1, verbosity=1),\n",
       "             iid='warn', n_jobs=14,\n",
       "             param_grid={'learning_rate': [0.001], 'max_depth': [5],\n",
       "                         'min_child_weight': [1], 'n_estimators': [90]},\n",
       "             pre_dispatch='2*n_jobs', refit=True, return_train_score=False,\n",
       "             scoring=None, verbose=10)"
      ]
     },
     "execution_count": 12,
     "metadata": {},
     "output_type": "execute_result"
    }
   ],
   "source": [
    "xgb_model.fit(x_train, y_train)"
   ]
  },
  {
   "cell_type": "code",
   "execution_count": 13,
   "metadata": {},
   "outputs": [],
   "source": [
    "xgbscore = xgb_model.score(x_test, y_test)\n",
    "xgbtime = xgb_model.refit_time_"
   ]
  },
  {
   "cell_type": "code",
   "execution_count": 14,
   "metadata": {},
   "outputs": [
    {
     "data": {
      "text/plain": [
       "0.37943005561828613"
      ]
     },
     "execution_count": 14,
     "metadata": {},
     "output_type": "execute_result"
    }
   ],
   "source": [
    "xgbtime"
   ]
  },
  {
   "cell_type": "code",
   "execution_count": 15,
   "metadata": {},
   "outputs": [
    {
     "name": "stdout",
     "output_type": "stream",
     "text": [
      "Наилучшие значения параметров: {'learning_rate': 0.001, 'max_depth': 5, 'min_child_weight': 1, 'n_estimators': 90}\n",
      "Наилучшее значение кросс-валидац. правильности:0.81059\n",
      "Правильность на тестовом наборе: 0.80524\n"
     ]
    }
   ],
   "source": [
    "print(\"Наилучшие значения параметров: {}\".format(xgb_model.best_params_))\n",
    "print(\"Наилучшее значение кросс-валидац. правильности:{:.5f}\".format(xgb_model.best_score_))\n",
    "print(\"Правильность на тестовом наборе: {:.5f}\".format(xgbscore))"
   ]
  },
  {
   "cell_type": "code",
   "execution_count": 16,
   "metadata": {},
   "outputs": [],
   "source": [
    "import lightgbm as lgb\n",
    "lg = lgb.LGBMClassifier(silent=False)"
   ]
  },
  {
   "cell_type": "code",
   "execution_count": 17,
   "metadata": {},
   "outputs": [],
   "source": [
    "param_dist = {\"max_depth\": [11],\n",
    "              \"learning_rate\" : [0.13],\n",
    "              \"num_leaves\": [50],\n",
    "              \"n_estimators\": [300]\n",
    "             }"
   ]
  },
  {
   "cell_type": "code",
   "execution_count": 18,
   "metadata": {
    "scrolled": true
   },
   "outputs": [
    {
     "name": "stdout",
     "output_type": "stream",
     "text": [
      "Fitting 10 folds for each of 1 candidates, totalling 10 fits\n"
     ]
    },
    {
     "name": "stderr",
     "output_type": "stream",
     "text": [
      "[Parallel(n_jobs=14)]: Using backend LokyBackend with 14 concurrent workers.\n",
      "[Parallel(n_jobs=14)]: Done   3 out of  10 | elapsed:    2.4s remaining:    5.7s\n",
      "[Parallel(n_jobs=14)]: Done   5 out of  10 | elapsed:    2.4s remaining:    2.4s\n",
      "[Parallel(n_jobs=14)]: Done   7 out of  10 | elapsed:    2.5s remaining:    1.0s\n",
      "[Parallel(n_jobs=14)]: Done  10 out of  10 | elapsed:    2.5s finished\n"
     ]
    },
    {
     "data": {
      "text/plain": [
       "GridSearchCV(cv=10, error_score='raise-deprecating',\n",
       "             estimator=LGBMClassifier(boosting_type='gbdt', class_weight=None,\n",
       "                                      colsample_bytree=1.0,\n",
       "                                      importance_type='split',\n",
       "                                      learning_rate=0.1, max_depth=-1,\n",
       "                                      min_child_samples=20,\n",
       "                                      min_child_weight=0.001,\n",
       "                                      min_split_gain=0.0, n_estimators=100,\n",
       "                                      n_jobs=-1, num_leaves=31, objective=None,\n",
       "                                      random_state=None, reg_alpha=0.0,\n",
       "                                      reg_lambda=0.0, silent=False,\n",
       "                                      subsample=1.0, subsample_for_bin=200000,\n",
       "                                      subsample_freq=0),\n",
       "             iid='warn', n_jobs=14,\n",
       "             param_grid={'learning_rate': [0.13], 'max_depth': [11],\n",
       "                         'n_estimators': [300], 'num_leaves': [50]},\n",
       "             pre_dispatch='2*n_jobs', refit=True, return_train_score=False,\n",
       "             scoring=None, verbose=10)"
      ]
     },
     "execution_count": 18,
     "metadata": {},
     "output_type": "execute_result"
    }
   ],
   "source": [
    "lgb_model = GridSearchCV(lg, n_jobs=cores, param_grid=param_dist, cv = 10, verbose=10)\n",
    "lgb_model.fit(x_train,y_train)"
   ]
  },
  {
   "cell_type": "code",
   "execution_count": 19,
   "metadata": {},
   "outputs": [
    {
     "name": "stdout",
     "output_type": "stream",
     "text": [
      "Наилучшие значения параметров: {'learning_rate': 0.13, 'max_depth': 11, 'n_estimators': 300, 'num_leaves': 50}\n",
      "Наилучшее значение кросс-валидац. правильности:0.81\n",
      "Правильность на тестовом наборе: 0.80\n"
     ]
    }
   ],
   "source": [
    "lgbscore = lgb_model.score(x_test, y_test)\n",
    "lgbtime = lgb_model.refit_time_\n",
    "print(\"Наилучшие значения параметров: {}\".format(lgb_model.best_params_))\n",
    "print(\"Наилучшее значение кросс-валидац. правильности:{:.2f}\".format(lgb_model.best_score_))\n",
    "print(\"Правильность на тестовом наборе: {:.2f}\".format(lgbscore))"
   ]
  },
  {
   "cell_type": "code",
   "execution_count": 20,
   "metadata": {},
   "outputs": [
    {
     "data": {
      "text/plain": [
       "0.1519327163696289"
      ]
     },
     "execution_count": 20,
     "metadata": {},
     "output_type": "execute_result"
    }
   ],
   "source": [
    "lgbtime"
   ]
  },
  {
   "cell_type": "code",
   "execution_count": 21,
   "metadata": {},
   "outputs": [],
   "source": [
    "import catboost as cb\n",
    "cb = cb.CatBoostClassifier()"
   ]
  },
  {
   "cell_type": "raw",
   "metadata": {},
   "source": [
    "params = {'depth': [4, 7, 10,13,16],\n",
    "          'learning_rate' : [0.005,0.01,0.03, 0.1, 0.15],\n",
    "         'l2_leaf_reg': [1,4,9,11,14],\n",
    "         'iterations': [100,200,300]}"
   ]
  },
  {
   "cell_type": "code",
   "execution_count": 22,
   "metadata": {},
   "outputs": [],
   "source": [
    "params = {'depth': [8],\n",
    "          'learning_rate' : [0.08],\n",
    "         'l2_leaf_reg': [18],\n",
    "         'iterations': [300]}"
   ]
  },
  {
   "cell_type": "code",
   "execution_count": 23,
   "metadata": {
    "scrolled": true
   },
   "outputs": [
    {
     "name": "stdout",
     "output_type": "stream",
     "text": [
      "Fitting 10 folds for each of 1 candidates, totalling 10 fits\n"
     ]
    },
    {
     "name": "stderr",
     "output_type": "stream",
     "text": [
      "[Parallel(n_jobs=14)]: Using backend LokyBackend with 14 concurrent workers.\n",
      "[Parallel(n_jobs=14)]: Done   3 out of  10 | elapsed:    8.4s remaining:   19.8s\n",
      "[Parallel(n_jobs=14)]: Done   5 out of  10 | elapsed:    9.0s remaining:    9.0s\n",
      "[Parallel(n_jobs=14)]: Done   7 out of  10 | elapsed:    9.0s remaining:    3.8s\n",
      "[Parallel(n_jobs=14)]: Done  10 out of  10 | elapsed:    9.1s finished\n"
     ]
    },
    {
     "name": "stdout",
     "output_type": "stream",
     "text": [
      "0:\tlearn: 0.6632591\ttotal: 53.3ms\tremaining: 15.9s\n",
      "1:\tlearn: 0.6271711\ttotal: 54.4ms\tremaining: 8.11s\n",
      "2:\tlearn: 0.5968395\ttotal: 55.4ms\tremaining: 5.49s\n",
      "3:\tlearn: 0.5801577\ttotal: 56.4ms\tremaining: 4.17s\n",
      "4:\tlearn: 0.5578801\ttotal: 58.1ms\tremaining: 3.43s\n",
      "5:\tlearn: 0.5442258\ttotal: 59.1ms\tremaining: 2.9s\n",
      "6:\tlearn: 0.5281007\ttotal: 60.5ms\tremaining: 2.53s\n",
      "7:\tlearn: 0.5124324\ttotal: 61.7ms\tremaining: 2.25s\n",
      "8:\tlearn: 0.5061078\ttotal: 63ms\tremaining: 2.04s\n",
      "9:\tlearn: 0.4953016\ttotal: 64.5ms\tremaining: 1.87s\n",
      "10:\tlearn: 0.4854823\ttotal: 65.5ms\tremaining: 1.72s\n",
      "11:\tlearn: 0.4764467\ttotal: 66.6ms\tremaining: 1.6s\n",
      "12:\tlearn: 0.4696147\ttotal: 67.5ms\tremaining: 1.49s\n",
      "13:\tlearn: 0.4631792\ttotal: 69.4ms\tremaining: 1.42s\n",
      "14:\tlearn: 0.4578121\ttotal: 71.7ms\tremaining: 1.36s\n",
      "15:\tlearn: 0.4539127\ttotal: 72.7ms\tremaining: 1.29s\n",
      "16:\tlearn: 0.4497040\ttotal: 73.8ms\tremaining: 1.23s\n",
      "17:\tlearn: 0.4456008\ttotal: 74.9ms\tremaining: 1.17s\n",
      "18:\tlearn: 0.4437369\ttotal: 75.9ms\tremaining: 1.12s\n",
      "19:\tlearn: 0.4407449\ttotal: 77.1ms\tremaining: 1.08s\n",
      "20:\tlearn: 0.4402562\ttotal: 77.8ms\tremaining: 1.03s\n",
      "21:\tlearn: 0.4391469\ttotal: 78.7ms\tremaining: 995ms\n",
      "22:\tlearn: 0.4367921\ttotal: 79.7ms\tremaining: 960ms\n",
      "23:\tlearn: 0.4350861\ttotal: 80.6ms\tremaining: 927ms\n",
      "24:\tlearn: 0.4337720\ttotal: 81.5ms\tremaining: 897ms\n",
      "25:\tlearn: 0.4331091\ttotal: 82.4ms\tremaining: 869ms\n",
      "26:\tlearn: 0.4318638\ttotal: 83.4ms\tremaining: 843ms\n",
      "27:\tlearn: 0.4307865\ttotal: 84.4ms\tremaining: 820ms\n",
      "28:\tlearn: 0.4289327\ttotal: 85.7ms\tremaining: 801ms\n",
      "29:\tlearn: 0.4284440\ttotal: 86.6ms\tremaining: 780ms\n",
      "30:\tlearn: 0.4276796\ttotal: 87.6ms\tremaining: 760ms\n",
      "31:\tlearn: 0.4272513\ttotal: 88.5ms\tremaining: 741ms\n",
      "32:\tlearn: 0.4257572\ttotal: 90.2ms\tremaining: 730ms\n",
      "33:\tlearn: 0.4254631\ttotal: 91.1ms\tremaining: 713ms\n",
      "34:\tlearn: 0.4248466\ttotal: 92.1ms\tremaining: 697ms\n",
      "35:\tlearn: 0.4241392\ttotal: 93.1ms\tremaining: 683ms\n",
      "36:\tlearn: 0.4240571\ttotal: 93.9ms\tremaining: 668ms\n",
      "37:\tlearn: 0.4237960\ttotal: 94.8ms\tremaining: 654ms\n",
      "38:\tlearn: 0.4235439\ttotal: 95.7ms\tremaining: 641ms\n",
      "39:\tlearn: 0.4220588\ttotal: 97.5ms\tremaining: 634ms\n",
      "40:\tlearn: 0.4219531\ttotal: 98.4ms\tremaining: 621ms\n",
      "41:\tlearn: 0.4218075\ttotal: 99.2ms\tremaining: 609ms\n",
      "42:\tlearn: 0.4196871\ttotal: 101ms\tremaining: 603ms\n",
      "43:\tlearn: 0.4191320\ttotal: 102ms\tremaining: 596ms\n",
      "44:\tlearn: 0.4188567\ttotal: 103ms\tremaining: 586ms\n",
      "45:\tlearn: 0.4173087\ttotal: 105ms\tremaining: 581ms\n",
      "46:\tlearn: 0.4154367\ttotal: 107ms\tremaining: 574ms\n",
      "47:\tlearn: 0.4148973\ttotal: 108ms\tremaining: 565ms\n",
      "48:\tlearn: 0.4142882\ttotal: 109ms\tremaining: 556ms\n",
      "49:\tlearn: 0.4138549\ttotal: 110ms\tremaining: 552ms\n",
      "50:\tlearn: 0.4138176\ttotal: 111ms\tremaining: 543ms\n",
      "51:\tlearn: 0.4134051\ttotal: 112ms\tremaining: 535ms\n",
      "52:\tlearn: 0.4129820\ttotal: 113ms\tremaining: 528ms\n",
      "53:\tlearn: 0.4123230\ttotal: 114ms\tremaining: 522ms\n",
      "54:\tlearn: 0.4111173\ttotal: 116ms\tremaining: 515ms\n",
      "55:\tlearn: 0.4110973\ttotal: 116ms\tremaining: 507ms\n",
      "56:\tlearn: 0.4097172\ttotal: 118ms\tremaining: 503ms\n",
      "57:\tlearn: 0.4093943\ttotal: 119ms\tremaining: 497ms\n",
      "58:\tlearn: 0.4093662\ttotal: 120ms\tremaining: 490ms\n",
      "59:\tlearn: 0.4093427\ttotal: 121ms\tremaining: 483ms\n",
      "60:\tlearn: 0.4088687\ttotal: 122ms\tremaining: 477ms\n",
      "61:\tlearn: 0.4086550\ttotal: 123ms\tremaining: 471ms\n",
      "62:\tlearn: 0.4086372\ttotal: 124ms\tremaining: 465ms\n",
      "63:\tlearn: 0.4075602\ttotal: 125ms\tremaining: 460ms\n",
      "64:\tlearn: 0.4071892\ttotal: 126ms\tremaining: 455ms\n",
      "65:\tlearn: 0.4062237\ttotal: 128ms\tremaining: 453ms\n",
      "66:\tlearn: 0.4058946\ttotal: 129ms\tremaining: 447ms\n",
      "67:\tlearn: 0.4055845\ttotal: 130ms\tremaining: 444ms\n",
      "68:\tlearn: 0.4053037\ttotal: 131ms\tremaining: 439ms\n",
      "69:\tlearn: 0.4052587\ttotal: 132ms\tremaining: 434ms\n",
      "70:\tlearn: 0.4045430\ttotal: 134ms\tremaining: 432ms\n",
      "71:\tlearn: 0.4033699\ttotal: 136ms\tremaining: 430ms\n",
      "72:\tlearn: 0.4033069\ttotal: 137ms\tremaining: 425ms\n",
      "73:\tlearn: 0.4028111\ttotal: 138ms\tremaining: 422ms\n",
      "74:\tlearn: 0.4021446\ttotal: 140ms\tremaining: 419ms\n",
      "75:\tlearn: 0.4014670\ttotal: 142ms\tremaining: 417ms\n",
      "76:\tlearn: 0.4011117\ttotal: 143ms\tremaining: 414ms\n",
      "77:\tlearn: 0.4003686\ttotal: 144ms\tremaining: 410ms\n",
      "78:\tlearn: 0.3996326\ttotal: 146ms\tremaining: 408ms\n",
      "79:\tlearn: 0.3994610\ttotal: 147ms\tremaining: 404ms\n",
      "80:\tlearn: 0.3988947\ttotal: 149ms\tremaining: 402ms\n",
      "81:\tlearn: 0.3977286\ttotal: 150ms\tremaining: 400ms\n",
      "82:\tlearn: 0.3973705\ttotal: 151ms\tremaining: 396ms\n",
      "83:\tlearn: 0.3972882\ttotal: 152ms\tremaining: 391ms\n",
      "84:\tlearn: 0.3965373\ttotal: 154ms\tremaining: 390ms\n",
      "85:\tlearn: 0.3953359\ttotal: 155ms\tremaining: 386ms\n",
      "86:\tlearn: 0.3942162\ttotal: 157ms\tremaining: 383ms\n",
      "87:\tlearn: 0.3937751\ttotal: 158ms\tremaining: 380ms\n",
      "88:\tlearn: 0.3934658\ttotal: 159ms\tremaining: 377ms\n",
      "89:\tlearn: 0.3931608\ttotal: 160ms\tremaining: 373ms\n",
      "90:\tlearn: 0.3918312\ttotal: 162ms\tremaining: 371ms\n",
      "91:\tlearn: 0.3910459\ttotal: 163ms\tremaining: 370ms\n",
      "92:\tlearn: 0.3898675\ttotal: 165ms\tremaining: 368ms\n",
      "93:\tlearn: 0.3890881\ttotal: 167ms\tremaining: 366ms\n",
      "94:\tlearn: 0.3884838\ttotal: 169ms\tremaining: 365ms\n",
      "95:\tlearn: 0.3873843\ttotal: 171ms\tremaining: 363ms\n",
      "96:\tlearn: 0.3869740\ttotal: 172ms\tremaining: 360ms\n",
      "97:\tlearn: 0.3867936\ttotal: 173ms\tremaining: 357ms\n",
      "98:\tlearn: 0.3863723\ttotal: 175ms\tremaining: 355ms\n",
      "99:\tlearn: 0.3857236\ttotal: 177ms\tremaining: 354ms\n",
      "100:\tlearn: 0.3851801\ttotal: 179ms\tremaining: 352ms\n",
      "101:\tlearn: 0.3846919\ttotal: 180ms\tremaining: 350ms\n",
      "102:\tlearn: 0.3841274\ttotal: 182ms\tremaining: 349ms\n",
      "103:\tlearn: 0.3836599\ttotal: 184ms\tremaining: 347ms\n",
      "104:\tlearn: 0.3827999\ttotal: 186ms\tremaining: 345ms\n",
      "105:\tlearn: 0.3815854\ttotal: 188ms\tremaining: 343ms\n",
      "106:\tlearn: 0.3806065\ttotal: 189ms\tremaining: 342ms\n",
      "107:\tlearn: 0.3804873\ttotal: 190ms\tremaining: 338ms\n",
      "108:\tlearn: 0.3796366\ttotal: 192ms\tremaining: 337ms\n",
      "109:\tlearn: 0.3786108\ttotal: 194ms\tremaining: 335ms\n",
      "110:\tlearn: 0.3781993\ttotal: 196ms\tremaining: 333ms\n",
      "111:\tlearn: 0.3777606\ttotal: 197ms\tremaining: 332ms\n",
      "112:\tlearn: 0.3773204\ttotal: 199ms\tremaining: 330ms\n",
      "113:\tlearn: 0.3764951\ttotal: 201ms\tremaining: 328ms\n",
      "114:\tlearn: 0.3760986\ttotal: 203ms\tremaining: 327ms\n",
      "115:\tlearn: 0.3760254\ttotal: 204ms\tremaining: 324ms\n",
      "116:\tlearn: 0.3754343\ttotal: 206ms\tremaining: 322ms\n",
      "117:\tlearn: 0.3750557\ttotal: 208ms\tremaining: 320ms\n",
      "118:\tlearn: 0.3748233\ttotal: 210ms\tremaining: 319ms\n",
      "119:\tlearn: 0.3744207\ttotal: 212ms\tremaining: 318ms\n",
      "120:\tlearn: 0.3737672\ttotal: 214ms\tremaining: 316ms\n",
      "121:\tlearn: 0.3732646\ttotal: 215ms\tremaining: 314ms\n",
      "122:\tlearn: 0.3727094\ttotal: 217ms\tremaining: 313ms\n",
      "123:\tlearn: 0.3723180\ttotal: 219ms\tremaining: 311ms\n",
      "124:\tlearn: 0.3719448\ttotal: 221ms\tremaining: 309ms\n",
      "125:\tlearn: 0.3714600\ttotal: 223ms\tremaining: 308ms\n",
      "126:\tlearn: 0.3710127\ttotal: 225ms\tremaining: 306ms\n",
      "127:\tlearn: 0.3706362\ttotal: 226ms\tremaining: 304ms\n",
      "128:\tlearn: 0.3699260\ttotal: 228ms\tremaining: 302ms\n",
      "129:\tlearn: 0.3693083\ttotal: 230ms\tremaining: 301ms\n",
      "130:\tlearn: 0.3689253\ttotal: 232ms\tremaining: 299ms\n",
      "131:\tlearn: 0.3686033\ttotal: 234ms\tremaining: 297ms\n",
      "132:\tlearn: 0.3680749\ttotal: 235ms\tremaining: 296ms\n",
      "133:\tlearn: 0.3677516\ttotal: 237ms\tremaining: 294ms\n",
      "134:\tlearn: 0.3673867\ttotal: 239ms\tremaining: 292ms\n",
      "135:\tlearn: 0.3665569\ttotal: 241ms\tremaining: 290ms\n",
      "136:\tlearn: 0.3663811\ttotal: 243ms\tremaining: 289ms\n",
      "137:\tlearn: 0.3662424\ttotal: 245ms\tremaining: 287ms\n",
      "138:\tlearn: 0.3659845\ttotal: 247ms\tremaining: 286ms\n",
      "139:\tlearn: 0.3647106\ttotal: 249ms\tremaining: 284ms\n",
      "140:\tlearn: 0.3643979\ttotal: 250ms\tremaining: 282ms\n",
      "141:\tlearn: 0.3632240\ttotal: 252ms\tremaining: 281ms\n",
      "142:\tlearn: 0.3627733\ttotal: 254ms\tremaining: 279ms\n",
      "143:\tlearn: 0.3622594\ttotal: 256ms\tremaining: 277ms\n",
      "144:\tlearn: 0.3619813\ttotal: 258ms\tremaining: 275ms\n",
      "145:\tlearn: 0.3608969\ttotal: 260ms\tremaining: 274ms\n",
      "146:\tlearn: 0.3601890\ttotal: 261ms\tremaining: 272ms\n",
      "147:\tlearn: 0.3599314\ttotal: 263ms\tremaining: 270ms\n",
      "148:\tlearn: 0.3594935\ttotal: 265ms\tremaining: 269ms\n",
      "149:\tlearn: 0.3590477\ttotal: 267ms\tremaining: 267ms\n",
      "150:\tlearn: 0.3588028\ttotal: 269ms\tremaining: 265ms\n",
      "151:\tlearn: 0.3576564\ttotal: 270ms\tremaining: 263ms\n",
      "152:\tlearn: 0.3573201\ttotal: 272ms\tremaining: 262ms\n",
      "153:\tlearn: 0.3571106\ttotal: 274ms\tremaining: 260ms\n",
      "154:\tlearn: 0.3568772\ttotal: 276ms\tremaining: 258ms\n",
      "155:\tlearn: 0.3566704\ttotal: 278ms\tremaining: 256ms\n",
      "156:\tlearn: 0.3564421\ttotal: 280ms\tremaining: 255ms\n",
      "157:\tlearn: 0.3557393\ttotal: 281ms\tremaining: 253ms\n",
      "158:\tlearn: 0.3546747\ttotal: 283ms\tremaining: 251ms\n",
      "159:\tlearn: 0.3542277\ttotal: 285ms\tremaining: 249ms\n",
      "160:\tlearn: 0.3541179\ttotal: 287ms\tremaining: 248ms\n",
      "161:\tlearn: 0.3537458\ttotal: 289ms\tremaining: 246ms\n",
      "162:\tlearn: 0.3534342\ttotal: 290ms\tremaining: 244ms\n",
      "163:\tlearn: 0.3530854\ttotal: 292ms\tremaining: 242ms\n",
      "164:\tlearn: 0.3528501\ttotal: 294ms\tremaining: 241ms\n",
      "165:\tlearn: 0.3526466\ttotal: 296ms\tremaining: 239ms\n",
      "166:\tlearn: 0.3518912\ttotal: 298ms\tremaining: 237ms\n",
      "167:\tlearn: 0.3515773\ttotal: 300ms\tremaining: 235ms\n",
      "168:\tlearn: 0.3511375\ttotal: 301ms\tremaining: 234ms\n",
      "169:\tlearn: 0.3502776\ttotal: 303ms\tremaining: 232ms\n",
      "170:\tlearn: 0.3500738\ttotal: 305ms\tremaining: 230ms\n",
      "171:\tlearn: 0.3495757\ttotal: 307ms\tremaining: 228ms\n",
      "172:\tlearn: 0.3492864\ttotal: 309ms\tremaining: 226ms\n",
      "173:\tlearn: 0.3490699\ttotal: 310ms\tremaining: 225ms\n",
      "174:\tlearn: 0.3488862\ttotal: 312ms\tremaining: 223ms\n",
      "175:\tlearn: 0.3484716\ttotal: 314ms\tremaining: 221ms\n",
      "176:\tlearn: 0.3481536\ttotal: 316ms\tremaining: 219ms\n",
      "177:\tlearn: 0.3476220\ttotal: 317ms\tremaining: 218ms\n",
      "178:\tlearn: 0.3468954\ttotal: 319ms\tremaining: 216ms\n",
      "179:\tlearn: 0.3465910\ttotal: 321ms\tremaining: 214ms\n",
      "180:\tlearn: 0.3459273\ttotal: 323ms\tremaining: 212ms\n",
      "181:\tlearn: 0.3454172\ttotal: 325ms\tremaining: 211ms\n",
      "182:\tlearn: 0.3452464\ttotal: 327ms\tremaining: 209ms\n",
      "183:\tlearn: 0.3450182\ttotal: 329ms\tremaining: 207ms\n",
      "184:\tlearn: 0.3447760\ttotal: 330ms\tremaining: 205ms\n",
      "185:\tlearn: 0.3442719\ttotal: 332ms\tremaining: 204ms\n",
      "186:\tlearn: 0.3440016\ttotal: 334ms\tremaining: 202ms\n",
      "187:\tlearn: 0.3439316\ttotal: 336ms\tremaining: 200ms\n",
      "188:\tlearn: 0.3438895\ttotal: 337ms\tremaining: 198ms\n",
      "189:\tlearn: 0.3434863\ttotal: 339ms\tremaining: 196ms\n",
      "190:\tlearn: 0.3432593\ttotal: 340ms\tremaining: 194ms\n",
      "191:\tlearn: 0.3431436\ttotal: 342ms\tremaining: 192ms\n",
      "192:\tlearn: 0.3428876\ttotal: 344ms\tremaining: 191ms\n",
      "193:\tlearn: 0.3422004\ttotal: 346ms\tremaining: 189ms\n",
      "194:\tlearn: 0.3420566\ttotal: 348ms\tremaining: 187ms\n",
      "195:\tlearn: 0.3417597\ttotal: 349ms\tremaining: 185ms\n",
      "196:\tlearn: 0.3416125\ttotal: 351ms\tremaining: 184ms\n",
      "197:\tlearn: 0.3413535\ttotal: 353ms\tremaining: 182ms\n",
      "198:\tlearn: 0.3412850\ttotal: 355ms\tremaining: 180ms\n",
      "199:\tlearn: 0.3411618\ttotal: 356ms\tremaining: 178ms\n",
      "200:\tlearn: 0.3407093\ttotal: 358ms\tremaining: 176ms\n",
      "201:\tlearn: 0.3404872\ttotal: 360ms\tremaining: 175ms\n",
      "202:\tlearn: 0.3399701\ttotal: 362ms\tremaining: 173ms\n",
      "203:\tlearn: 0.3397664\ttotal: 364ms\tremaining: 171ms\n",
      "204:\tlearn: 0.3395722\ttotal: 365ms\tremaining: 169ms\n",
      "205:\tlearn: 0.3393284\ttotal: 367ms\tremaining: 168ms\n",
      "206:\tlearn: 0.3391110\ttotal: 369ms\tremaining: 166ms\n",
      "207:\tlearn: 0.3390345\ttotal: 371ms\tremaining: 164ms\n",
      "208:\tlearn: 0.3388516\ttotal: 373ms\tremaining: 162ms\n",
      "209:\tlearn: 0.3386339\ttotal: 375ms\tremaining: 161ms\n",
      "210:\tlearn: 0.3384678\ttotal: 376ms\tremaining: 159ms\n"
     ]
    },
    {
     "name": "stdout",
     "output_type": "stream",
     "text": [
      "211:\tlearn: 0.3379502\ttotal: 379ms\tremaining: 157ms\n",
      "212:\tlearn: 0.3377039\ttotal: 381ms\tremaining: 155ms\n",
      "213:\tlearn: 0.3372275\ttotal: 382ms\tremaining: 154ms\n",
      "214:\tlearn: 0.3370342\ttotal: 384ms\tremaining: 152ms\n",
      "215:\tlearn: 0.3368216\ttotal: 386ms\tremaining: 150ms\n",
      "216:\tlearn: 0.3365616\ttotal: 388ms\tremaining: 148ms\n",
      "217:\tlearn: 0.3364818\ttotal: 390ms\tremaining: 147ms\n",
      "218:\tlearn: 0.3364213\ttotal: 391ms\tremaining: 145ms\n",
      "219:\tlearn: 0.3362117\ttotal: 393ms\tremaining: 143ms\n",
      "220:\tlearn: 0.3355706\ttotal: 395ms\tremaining: 141ms\n",
      "221:\tlearn: 0.3352847\ttotal: 397ms\tremaining: 139ms\n",
      "222:\tlearn: 0.3350540\ttotal: 399ms\tremaining: 138ms\n",
      "223:\tlearn: 0.3346391\ttotal: 400ms\tremaining: 136ms\n",
      "224:\tlearn: 0.3345027\ttotal: 403ms\tremaining: 134ms\n",
      "225:\tlearn: 0.3342043\ttotal: 405ms\tremaining: 132ms\n",
      "226:\tlearn: 0.3340598\ttotal: 407ms\tremaining: 131ms\n",
      "227:\tlearn: 0.3338571\ttotal: 408ms\tremaining: 129ms\n",
      "228:\tlearn: 0.3336380\ttotal: 410ms\tremaining: 127ms\n",
      "229:\tlearn: 0.3334579\ttotal: 412ms\tremaining: 126ms\n",
      "230:\tlearn: 0.3332508\ttotal: 415ms\tremaining: 124ms\n",
      "231:\tlearn: 0.3329596\ttotal: 416ms\tremaining: 122ms\n",
      "232:\tlearn: 0.3328298\ttotal: 418ms\tremaining: 120ms\n",
      "233:\tlearn: 0.3324702\ttotal: 420ms\tremaining: 118ms\n",
      "234:\tlearn: 0.3319318\ttotal: 422ms\tremaining: 117ms\n",
      "235:\tlearn: 0.3319005\ttotal: 424ms\tremaining: 115ms\n",
      "236:\tlearn: 0.3316760\ttotal: 425ms\tremaining: 113ms\n",
      "237:\tlearn: 0.3315639\ttotal: 427ms\tremaining: 111ms\n",
      "238:\tlearn: 0.3309616\ttotal: 429ms\tremaining: 110ms\n",
      "239:\tlearn: 0.3309089\ttotal: 431ms\tremaining: 108ms\n",
      "240:\tlearn: 0.3308215\ttotal: 433ms\tremaining: 106ms\n",
      "241:\tlearn: 0.3307155\ttotal: 435ms\tremaining: 104ms\n",
      "242:\tlearn: 0.3303582\ttotal: 436ms\tremaining: 102ms\n",
      "243:\tlearn: 0.3299436\ttotal: 438ms\tremaining: 101ms\n",
      "244:\tlearn: 0.3297634\ttotal: 440ms\tremaining: 98.8ms\n",
      "245:\tlearn: 0.3293704\ttotal: 442ms\tremaining: 97ms\n",
      "246:\tlearn: 0.3293412\ttotal: 444ms\tremaining: 95.2ms\n",
      "247:\tlearn: 0.3291764\ttotal: 445ms\tremaining: 93.4ms\n",
      "248:\tlearn: 0.3290434\ttotal: 447ms\tremaining: 91.6ms\n",
      "249:\tlearn: 0.3287575\ttotal: 449ms\tremaining: 89.8ms\n",
      "250:\tlearn: 0.3285955\ttotal: 451ms\tremaining: 88ms\n",
      "251:\tlearn: 0.3284329\ttotal: 453ms\tremaining: 86.2ms\n",
      "252:\tlearn: 0.3280472\ttotal: 454ms\tremaining: 84.4ms\n",
      "253:\tlearn: 0.3278773\ttotal: 456ms\tremaining: 82.6ms\n",
      "254:\tlearn: 0.3276740\ttotal: 458ms\tremaining: 80.8ms\n",
      "255:\tlearn: 0.3275487\ttotal: 460ms\tremaining: 79.1ms\n",
      "256:\tlearn: 0.3273712\ttotal: 462ms\tremaining: 77.3ms\n",
      "257:\tlearn: 0.3272592\ttotal: 464ms\tremaining: 75.5ms\n",
      "258:\tlearn: 0.3268941\ttotal: 466ms\tremaining: 73.7ms\n",
      "259:\tlearn: 0.3267882\ttotal: 467ms\tremaining: 71.9ms\n",
      "260:\tlearn: 0.3266502\ttotal: 469ms\tremaining: 70.1ms\n",
      "261:\tlearn: 0.3262634\ttotal: 471ms\tremaining: 68.3ms\n",
      "262:\tlearn: 0.3261589\ttotal: 473ms\tremaining: 66.5ms\n",
      "263:\tlearn: 0.3257660\ttotal: 475ms\tremaining: 64.8ms\n",
      "264:\tlearn: 0.3256213\ttotal: 477ms\tremaining: 63ms\n",
      "265:\tlearn: 0.3255528\ttotal: 479ms\tremaining: 61.2ms\n",
      "266:\tlearn: 0.3253301\ttotal: 481ms\tremaining: 59.4ms\n",
      "267:\tlearn: 0.3249308\ttotal: 482ms\tremaining: 57.6ms\n",
      "268:\tlearn: 0.3248551\ttotal: 484ms\tremaining: 55.8ms\n",
      "269:\tlearn: 0.3247597\ttotal: 486ms\tremaining: 54ms\n",
      "270:\tlearn: 0.3245564\ttotal: 488ms\tremaining: 52.2ms\n",
      "271:\tlearn: 0.3244588\ttotal: 490ms\tremaining: 50.4ms\n",
      "272:\tlearn: 0.3241855\ttotal: 491ms\tremaining: 48.6ms\n",
      "273:\tlearn: 0.3240672\ttotal: 493ms\tremaining: 46.8ms\n",
      "274:\tlearn: 0.3239953\ttotal: 495ms\tremaining: 45ms\n",
      "275:\tlearn: 0.3238742\ttotal: 497ms\tremaining: 43.2ms\n",
      "276:\tlearn: 0.3236643\ttotal: 498ms\tremaining: 41.4ms\n",
      "277:\tlearn: 0.3236122\ttotal: 500ms\tremaining: 39.6ms\n",
      "278:\tlearn: 0.3234679\ttotal: 502ms\tremaining: 37.8ms\n",
      "279:\tlearn: 0.3233737\ttotal: 504ms\tremaining: 36ms\n",
      "280:\tlearn: 0.3233126\ttotal: 505ms\tremaining: 34.2ms\n",
      "281:\tlearn: 0.3230637\ttotal: 507ms\tremaining: 32.4ms\n",
      "282:\tlearn: 0.3229731\ttotal: 509ms\tremaining: 30.6ms\n",
      "283:\tlearn: 0.3227434\ttotal: 511ms\tremaining: 28.8ms\n",
      "284:\tlearn: 0.3225959\ttotal: 513ms\tremaining: 27ms\n",
      "285:\tlearn: 0.3221941\ttotal: 514ms\tremaining: 25.2ms\n",
      "286:\tlearn: 0.3220474\ttotal: 516ms\tremaining: 23.4ms\n",
      "287:\tlearn: 0.3216750\ttotal: 518ms\tremaining: 21.6ms\n",
      "288:\tlearn: 0.3214100\ttotal: 520ms\tremaining: 19.8ms\n",
      "289:\tlearn: 0.3212551\ttotal: 522ms\tremaining: 18ms\n",
      "290:\tlearn: 0.3208292\ttotal: 524ms\tremaining: 16.2ms\n",
      "291:\tlearn: 0.3207025\ttotal: 526ms\tremaining: 14.4ms\n",
      "292:\tlearn: 0.3205823\ttotal: 528ms\tremaining: 12.6ms\n",
      "293:\tlearn: 0.3204419\ttotal: 529ms\tremaining: 10.8ms\n",
      "294:\tlearn: 0.3202363\ttotal: 531ms\tremaining: 9ms\n",
      "295:\tlearn: 0.3200810\ttotal: 533ms\tremaining: 7.2ms\n",
      "296:\tlearn: 0.3200151\ttotal: 535ms\tremaining: 5.4ms\n",
      "297:\tlearn: 0.3198806\ttotal: 537ms\tremaining: 3.6ms\n",
      "298:\tlearn: 0.3198144\ttotal: 538ms\tremaining: 1.8ms\n",
      "299:\tlearn: 0.3197482\ttotal: 540ms\tremaining: 0us\n"
     ]
    },
    {
     "data": {
      "text/plain": [
       "GridSearchCV(cv=10, error_score='raise-deprecating',\n",
       "             estimator=<catboost.core.CatBoostClassifier object at 0x00000218868F5860>,\n",
       "             iid='warn', n_jobs=14,\n",
       "             param_grid={'depth': [8], 'iterations': [300], 'l2_leaf_reg': [18],\n",
       "                         'learning_rate': [0.08]},\n",
       "             pre_dispatch='2*n_jobs', refit=True, return_train_score=False,\n",
       "             scoring=None, verbose=10)"
      ]
     },
     "execution_count": 23,
     "metadata": {},
     "output_type": "execute_result"
    }
   ],
   "source": [
    "cb_model = GridSearchCV(cb,n_jobs=cores, param_grid=params, cv = 10, verbose=10)\n",
    "cb_model.fit(x_train, y_train)"
   ]
  },
  {
   "cell_type": "code",
   "execution_count": 24,
   "metadata": {
    "scrolled": true
   },
   "outputs": [
    {
     "name": "stdout",
     "output_type": "stream",
     "text": [
      "Наилучшие значения параметров: {'depth': 8, 'iterations': 300, 'l2_leaf_reg': 18, 'learning_rate': 0.08}\n",
      "Наилучшее значение кросс-валидац. правильности:0.80899\n",
      "Правильность на тестовом наборе: 0.83146\n"
     ]
    }
   ],
   "source": [
    "cbscore = cb_model.score(x_test, y_test)\n",
    "cbtime = cb_model.refit_time_\n",
    "print(\"Наилучшие значения параметров: {}\".format(cb_model.best_params_))\n",
    "print(\"Наилучшее значение кросс-валидац. правильности:{:.5f}\".format(cb_model.best_score_))\n",
    "print(\"Правильность на тестовом наборе: {:.5f}\".format(cbscore))"
   ]
  },
  {
   "cell_type": "code",
   "execution_count": 25,
   "metadata": {},
   "outputs": [
    {
     "data": {
      "text/plain": [
       "0.7569499015808105"
      ]
     },
     "execution_count": 25,
     "metadata": {},
     "output_type": "execute_result"
    }
   ],
   "source": [
    "cbtime"
   ]
  },
  {
   "cell_type": "code",
   "execution_count": 26,
   "metadata": {},
   "outputs": [],
   "source": [
    "graph1 = pd.Series([cbtime,lgbtime,xgbtime], index=['cbtime', 'lgbtime', 'xgbtime'])\n",
    "graph2 = pd.Series([cbscore,lgbscore,xgbscore], index=['cbscore', 'lgbscore', 'xgbscore'])"
   ]
  },
  {
   "cell_type": "code",
   "execution_count": 27,
   "metadata": {
    "scrolled": false
   },
   "outputs": [
    {
     "data": {
      "text/plain": [
       "<matplotlib.axes._subplots.AxesSubplot at 0x2188694dbe0>"
      ]
     },
     "execution_count": 27,
     "metadata": {},
     "output_type": "execute_result"
    },
    {
     "data": {
      "image/png": "[encoded data removed]",
      "text/plain": [
       "<Figure size 720x720 with 1 Axes>"
      ]
     },
     "metadata": {
      "needs_background": "light"
     },
     "output_type": "display_data"
    }
   ],
   "source": [
    "graph1.plot(kind='bar', title =\"TIME\", figsize=(10, 10), legend=True, fontsize=14, stacked=True)"
   ]
  },
  {
   "cell_type": "code",
   "execution_count": 28,
   "metadata": {},
   "outputs": [
    {
     "data": {
      "text/plain": [
       "cbtime     0.756950\n",
       "lgbtime    0.151933\n",
       "xgbtime    0.379430\n",
       "dtype: float64"
      ]
     },
     "execution_count": 28,
     "metadata": {},
     "output_type": "execute_result"
    }
   ],
   "source": [
    "graph1"
   ]
  },
  {
   "cell_type": "code",
   "execution_count": 29,
   "metadata": {},
   "outputs": [
    {
     "data": {
      "text/plain": [
       "<matplotlib.axes._subplots.AxesSubplot at 0x218ffb89630>"
      ]
     },
     "execution_count": 29,
     "metadata": {},
     "output_type": "execute_result"
    },
    {
     "data": {
      "image/png": "[encoded data removed]",
      "text/plain": [
       "<Figure size 720x720 with 1 Axes>"
      ]
     },
     "metadata": {
      "needs_background": "light"
     },
     "output_type": "display_data"
    }
   ],
   "source": [
    "graph2.plot(kind='bar', title =\"SCORE\", figsize=(10, 10), legend=True, fontsize=14, stacked=True)"
   ]
  },
  {
   "cell_type": "code",
   "execution_count": 30,
   "metadata": {},
   "outputs": [
    {
     "data": {
      "text/plain": [
       "cbscore     0.831461\n",
       "lgbscore    0.801498\n",
       "xgbscore    0.805243\n",
       "dtype: float64"
      ]
     },
     "execution_count": 30,
     "metadata": {},
     "output_type": "execute_result"
    }
   ],
   "source": [
    "graph2"
   ]
  }
 ],
 "metadata": {
  "kernelspec": {
   "display_name": "Python 3",
   "language": "python",
   "name": "python3"
  },
  "language_info": {
   "codemirror_mode": {
    "name": "ipython",
    "version": 3
   },
   "file_extension": ".py",
   "mimetype": "text/x-python",
   "name": "python",
   "nbconvert_exporter": "python",
   "pygments_lexer": "ipython3",
   "version": "3.6.8"
  }
 },
 "nbformat": 4,
 "nbformat_minor": 2
}
